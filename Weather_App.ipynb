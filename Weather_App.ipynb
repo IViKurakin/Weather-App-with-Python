{
  "nbformat": 4,
  "nbformat_minor": 0,
  "metadata": {
    "colab": {
      "provenance": [],
      "authorship_tag": "ABX9TyMkvVhWfJEkD/zuYyfYORE9",
      "include_colab_link": true
    },
    "kernelspec": {
      "name": "python3",
      "display_name": "Python 3"
    },
    "language_info": {
      "name": "python"
    }
  },
  "cells": [
    {
      "cell_type": "markdown",
      "metadata": {
        "id": "view-in-github",
        "colab_type": "text"
      },
      "source": [
        "<a href=\"https://colab.research.google.com/github/IViKurakin/Weather-App-with-Python/blob/main/Weather_App.ipynb\" target=\"_parent\"><img src=\"https://colab.research.google.com/assets/colab-badge.svg\" alt=\"Open In Colab\"/></a>"
      ]
    },
    {
      "cell_type": "code",
      "source": [
        "!pip install requests"
      ],
      "metadata": {
        "colab": {
          "base_uri": "https://localhost:8080/"
        },
        "id": "eB-wbSE3XrEC",
        "outputId": "0de02662-beae-4b23-c004-6d71bb89bf83"
      },
      "execution_count": 1,
      "outputs": [
        {
          "output_type": "stream",
          "name": "stdout",
          "text": [
            "Requirement already satisfied: requests in /usr/local/lib/python3.11/dist-packages (2.32.3)\n",
            "Requirement already satisfied: charset-normalizer<4,>=2 in /usr/local/lib/python3.11/dist-packages (from requests) (3.4.1)\n",
            "Requirement already satisfied: idna<4,>=2.5 in /usr/local/lib/python3.11/dist-packages (from requests) (3.10)\n",
            "Requirement already satisfied: urllib3<3,>=1.21.1 in /usr/local/lib/python3.11/dist-packages (from requests) (2.3.0)\n",
            "Requirement already satisfied: certifi>=2017.4.17 in /usr/local/lib/python3.11/dist-packages (from requests) (2025.1.31)\n"
          ]
        }
      ]
    },
    {
      "cell_type": "code",
      "source": [
        "import requests\n",
        "\n",
        "keyAPI='c421857110df2b1e6445d5eafd267825'\n",
        "lat=53.243400\n",
        "lon=34.363991\n",
        "query=f'https://api.openweathermap.org/data/2.5/weather?lat={lat}&lon={lon}&appid={keyAPI}&units=metric'\n",
        "\n",
        "weather=requests.get(query).json()\n",
        "\n",
        "# Температура воздуха\n",
        "temperature=round(weather['main']['temp'])\n",
        "if temperature<0:\n",
        "  temperature='-'+str(temperature)\n",
        "# Скорость ветра\n",
        "wind_speed=weather['wind']['speed']\n",
        "# Направление ветра\n",
        "wind=weather['wind']['deg']\n",
        "if wind<22.5:\n",
        "  wind='Север'\n",
        "elif wind<67.5:\n",
        "  wind='Северо-Восток'\n",
        "elif wind<112.5:\n",
        "  wind='Восток'\n",
        "elif wind<157.5:\n",
        "  wind='Юго-Восток'\n",
        "elif wind<202.5:\n",
        "  wind='Юг'\n",
        "elif wind<247.5:\n",
        "  wind='Юго-Запад'\n",
        "elif wind<292.5:\n",
        "  wind='Запад'\n",
        "elif wind<337.5:\n",
        "  wind='Северо-Запад'\n",
        "else:\n",
        "  wind='Север'\n",
        "# Влажность воздуха\n",
        "humidity=weather['main']['humidity']\n",
        "# Облачность\n",
        "clouds=weather['clouds']['all']\n",
        "if clouds<50:\n",
        "  clouds='Мало'\n",
        "elif clouds<70:\n",
        "  clouds='Нормально'\n",
        "elif clouds<90:\n",
        "  clouds='Много'\n",
        "else:\n",
        "  clouds='Очень много'\n",
        "# Давление\n",
        "pressure=weather['main']['pressure']\n",
        "\n",
        "\n",
        "print(f'Температура воздуха: {temperature}°С')\n",
        "print(f'Ветер: {wind_speed} м/c, {wind}')\n",
        "print(f'Влажность воздуха: {humidity}%')\n",
        "print(f'Облачность: {clouds}')\n",
        "print(f'Давление: {pressure} мм.рт.ст')"
      ],
      "metadata": {
        "colab": {
          "base_uri": "https://localhost:8080/"
        },
        "id": "1Or-1KErX13y",
        "outputId": "b80e0371-d3cb-4724-c1bf-a5dfbbfa86d6"
      },
      "execution_count": 12,
      "outputs": [
        {
          "output_type": "stream",
          "name": "stdout",
          "text": [
            "Температура воздуха: 6°С\n",
            "Ветер: 2 м/c, Запад\n"
          ]
        }
      ]
    }
  ]
}